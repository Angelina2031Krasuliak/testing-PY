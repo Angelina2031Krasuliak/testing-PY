{
 "cells": [
  {
   "cell_type": "markdown",
   "id": "18b0ef2a",
   "metadata": {},
   "source": [
    "## Базові перевірки / твердження asssert"
   ]
  },
  {
   "cell_type": "code",
   "execution_count": null,
   "id": "af4595b0",
   "metadata": {},
   "outputs": [
    {
     "name": "stdout",
     "output_type": "stream",
     "text": [
      "Вы ввели число: 1\n"
     ]
    }
   ],
   "source": [
    "a = input(\"Введите число:\")\n",
    "assert a.isdigit(), \"Введено не число\"\n",
    "print(f\"Ви ввели число: {a}\")"
   ]
  },
  {
   "cell_type": "code",
   "execution_count": 22,
   "id": "2fa9145e",
   "metadata": {},
   "outputs": [
    {
     "name": "stdout",
     "output_type": "stream",
     "text": [
      "Молодець - це слово українською мовою\n"
     ]
    }
   ],
   "source": [
    "b = input (\"Введіть слово країнською мовою:\")\n",
    "import re \n",
    "if bool(re.match(\"^[А-ЩЬЮЯҐЄІЇа-щьюяґєії]+$\", b)):\n",
    "    print (\"Молодець - це слово українською мовою\")\n",
    "else:\n",
    "    raise AssertionError(\"Це не слово українською мовою\")"
   ]
  },
  {
   "cell_type": "code",
   "execution_count": null,
   "id": "dc4cf61a",
   "metadata": {},
   "outputs": [],
   "source": [
    "ll = [1]\n",
    "isinstance(ll, list)\n",
    "\n",
    "sum ([1])"
   ]
  },
  {
   "cell_type": "code",
   "execution_count": null,
   "id": "d942af30",
   "metadata": {},
   "outputs": [
    {
     "name": "stdout",
     "output_type": "stream",
     "text": [
      "Передено 5 яке має тип <class 'str'>\n"
     ]
    }
   ],
   "source": [
    "from typing import Any, List\n",
    "def my_fun(a: Any):\n",
    "    #assert isinstance(a, Any), \"a має бути цілим числом\"\n",
    "    print(f\"Передено {a} яке має тип {type(a)}\")\n",
    "    \n",
    "# my_fun() missing 1 required positional argument: 'a'\n",
    "my_fun(\"5\")"
   ]
  },
  {
   "cell_type": "markdown",
   "id": "e15e7e7c",
   "metadata": {},
   "source": [
    "- використання різних перевірок разом з твердженнями "
   ]
  },
  {
   "cell_type": "code",
   "execution_count": 14,
   "id": "891e6774",
   "metadata": {},
   "outputs": [],
   "source": [
    "n1 = 2\n",
    "max_number = 3\n",
    "assert n1 < max_number, f\"n1={n1} має бути менше {max_number}\"\n",
    "assert n1 == 2, f\"n1={n1} має бути рівне 2\"\n",
    "assert n1 != 5, f\"n1={n1} не рівне 5\"\n",
    "\n",
    "n2 = 2.0\n",
    "assert n1 == n2\n",
    "# # Тут буде помилка, бо це різні об'єкти в пам'яті\n",
    "# # AssertionError: n1=2 і n2=2.0 мають бути тим самим об'єктом в пам'яті\n",
    "# assert n1 is n2, f\"n1={n1} і n2={n2} мають бути тим самим об'єктом в пам'яті\"\n",
    "\n"
   ]
  },
  {
   "cell_type": "code",
   "execution_count": 13,
   "id": "915b28ca",
   "metadata": {},
   "outputs": [
    {
     "ename": "AssertionError",
     "evalue": "не рівність об'єктів в пам'яті",
     "output_type": "error",
     "traceback": [
      "\u001b[31m---------------------------------------------------------------------------\u001b[39m",
      "\u001b[31mAssertionError\u001b[39m                            Traceback (most recent call last)",
      "\u001b[36mCell\u001b[39m\u001b[36m \u001b[39m\u001b[32mIn[13]\u001b[39m\u001b[32m, line 9\u001b[39m\n\u001b[32m      6\u001b[39m num1 = TheNumber(\u001b[32m5\u001b[39m)\n\u001b[32m      7\u001b[39m num2 = TheNumber(\u001b[32m5\u001b[39m)\n\u001b[32m----> \u001b[39m\u001b[32m9\u001b[39m \u001b[38;5;28;01massert\u001b[39;00m num1 \u001b[38;5;129;01mis\u001b[39;00m num2, \u001b[33m\"\u001b[39m\u001b[33mне рівність об\u001b[39m\u001b[33m'\u001b[39m\u001b[33mєктів в пам\u001b[39m\u001b[33m'\u001b[39m\u001b[33mяті\u001b[39m\u001b[33m\"\u001b[39m\n",
      "\u001b[31mAssertionError\u001b[39m: не рівність об'єктів в пам'яті"
     ]
    }
   ],
   "source": [
    "class TheNumber:\n",
    "    def __init__(self, n):\n",
    "        self.n = n\n",
    "\n",
    "\n",
    "num1 = TheNumber(5)\n",
    "num2 = TheNumber(5)\n",
    "\n",
    "assert num1 is num2, \"не рівність об'єктів в пам'яті\""
   ]
  },
  {
   "cell_type": "code",
   "execution_count": 19,
   "id": "b0f584e0",
   "metadata": {},
   "outputs": [
    {
     "name": "stdout",
     "output_type": "stream",
     "text": [
      "0\n",
      "1\n",
      "2\n",
      "3\n",
      "4\n",
      "5\n",
      "6\n",
      "7\n",
      "8\n",
      "9\n"
     ]
    },
    {
     "ename": "AssertionError",
     "evalue": "Функція має повертати True",
     "output_type": "error",
     "traceback": [
      "\u001b[31m---------------------------------------------------------------------------\u001b[39m",
      "\u001b[31mAssertionError\u001b[39m                            Traceback (most recent call last)",
      "\u001b[36mCell\u001b[39m\u001b[36m \u001b[39m\u001b[32mIn[19]\u001b[39m\u001b[32m, line 6\u001b[39m\n\u001b[32m      3\u001b[39m         \u001b[38;5;28mprint\u001b[39m(i)\n\u001b[32m      4\u001b[39m     \u001b[38;5;28;01mreturn\u001b[39;00m i > \u001b[32m10\u001b[39m \u001b[38;5;66;03m# \"Ця функція завжди повертає False\"\u001b[39;00m\n\u001b[32m----> \u001b[39m\u001b[32m6\u001b[39m \u001b[38;5;28;01massert\u001b[39;00m my_always_fails(), \u001b[33m\"\u001b[39m\u001b[33mФункція має повертати True\u001b[39m\u001b[33m\"\u001b[39m\n",
      "\u001b[31mAssertionError\u001b[39m: Функція має повертати True"
     ]
    }
   ],
   "source": [
    "def my_always_fails() -> bool:\n",
    "    for i in range(10):\n",
    "        print(i)\n",
    "    return i > 10 # \"Ця функція завжди повертає False\"\n",
    "\n",
    "assert my_always_fails(), \"Функція має повертати True\""
   ]
  },
  {
   "cell_type": "code",
   "execution_count": 22,
   "id": "d7816da5",
   "metadata": {},
   "outputs": [
    {
     "ename": "AssertionError",
     "evalue": "Первірка квадратів чисел",
     "output_type": "error",
     "traceback": [
      "\u001b[31m---------------------------------------------------------------------------\u001b[39m",
      "\u001b[31mAssertionError\u001b[39m                            Traceback (most recent call last)",
      "\u001b[36mCell\u001b[39m\u001b[36m \u001b[39m\u001b[32mIn[22]\u001b[39m\u001b[32m, line 4\u001b[39m\n\u001b[32m      2\u001b[39m ll = [-\u001b[32m1\u001b[39m, -\u001b[32m2\u001b[39m, \u001b[32m0\u001b[39m]\n\u001b[32m      3\u001b[39m \u001b[38;5;66;03m#перевіряємо чи з набору чисел можна отримати \u001b[39;00m\n\u001b[32m----> \u001b[39m\u001b[32m4\u001b[39m \u001b[38;5;28;01massert\u001b[39;00m [math.sqrt(i)  \u001b[38;5;28;01mfor\u001b[39;00m i \u001b[38;5;129;01min\u001b[39;00m ll \u001b[38;5;28;01mif\u001b[39;00m i > \u001b[32m1\u001b[39m] , \u001b[33m\"\u001b[39m\u001b[33mПервірка квадратів чисел\u001b[39m\u001b[33m\"\u001b[39m\n",
      "\u001b[31mAssertionError\u001b[39m: Первірка квадратів чисел"
     ]
    }
   ],
   "source": [
    "import math\n",
    "ll = [-1, -2, 0]\n",
    "#перевіряємо чи з набору чисел можна отримати \n",
    "assert [math.sqrt(i)  for i in ll if i > 1] , \"Первірка квадратів чисел\""
   ]
  },
  {
   "cell_type": "code",
   "execution_count": 23,
   "id": "331115c2",
   "metadata": {},
   "outputs": [
    {
     "ename": "ValueError",
     "evalue": "math domain error",
     "output_type": "error",
     "traceback": [
      "\u001b[31m---------------------------------------------------------------------------\u001b[39m",
      "\u001b[31mValueError\u001b[39m                                Traceback (most recent call last)",
      "\u001b[36mCell\u001b[39m\u001b[36m \u001b[39m\u001b[32mIn[23]\u001b[39m\u001b[32m, line 1\u001b[39m\n\u001b[32m----> \u001b[39m\u001b[32m1\u001b[39m \u001b[43mmath\u001b[49m\u001b[43m.\u001b[49m\u001b[43msqrt\u001b[49m\u001b[43m(\u001b[49m\u001b[43m-\u001b[49m\u001b[32;43m4\u001b[39;49m\u001b[43m)\u001b[49m\n",
      "\u001b[31mValueError\u001b[39m: math domain error"
     ]
    }
   ],
   "source": [
    "math.sqrt(-4)\n"
   ]
  },
  {
   "cell_type": "code",
   "execution_count": 24,
   "id": "4c4d5b84",
   "metadata": {},
   "outputs": [
    {
     "name": "stdout",
     "output_type": "stream",
     "text": [
      "1\n"
     ]
    }
   ],
   "source": [
    "dd = {\"a\": 1, \"b\": 2}\n",
    "assert \"a\" in dd, \"Перевірка наявності ключа в словнику\"\n",
    "print (dd[\"a\"])"
   ]
  }
 ],
 "metadata": {
  "kernelspec": {
   "display_name": "Python 3",
   "language": "python",
   "name": "python3"
  },
  "language_info": {
   "codemirror_mode": {
    "name": "ipython",
    "version": 3
   },
   "file_extension": ".py",
   "mimetype": "text/x-python",
   "name": "python",
   "nbconvert_exporter": "python",
   "pygments_lexer": "ipython3",
   "version": "3.13.7"
  }
 },
 "nbformat": 4,
 "nbformat_minor": 5
}
