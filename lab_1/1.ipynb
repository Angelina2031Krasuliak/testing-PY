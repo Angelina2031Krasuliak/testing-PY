{
 "cells": [
  {
   "cell_type": "code",
   "execution_count": null,
   "id": "af4595b0",
   "metadata": {},
   "outputs": [
    {
     "name": "stdout",
     "output_type": "stream",
     "text": [
      "Вы ввели число: 1\n"
     ]
    }
   ],
   "source": [
    "a = input(\"Введите число:\")\n",
    "assert a.isdigit(), \"Введено не число\"\n",
    "print(f\"Ви ввели число: {a}\")"
   ]
  },
  {
   "cell_type": "code",
   "execution_count": 22,
   "id": "2fa9145e",
   "metadata": {},
   "outputs": [
    {
     "name": "stdout",
     "output_type": "stream",
     "text": [
      "Молодець - це слово українською мовою\n"
     ]
    }
   ],
   "source": [
    "b = input (\"Введіть слово країнською мовою:\")\n",
    "import re \n",
    "if bool(re.match(\"^[А-ЩЬЮЯҐЄІЇа-щьюяґєії]+$\", b)):\n",
    "    print (\"Молодець - це слово українською мовою\")\n",
    "else:\n",
    "    raise AssertionError(\"Це не слово українською мовою\")"
   ]
  },
  {
   "cell_type": "code",
   "execution_count": null,
   "id": "dc4cf61a",
   "metadata": {},
   "outputs": [],
   "source": [
    "ll = [1]\n",
    "isinstance(ll, list)\n",
    "\n",
    "sum ([1])"
   ]
  },
  {
   "cell_type": "code",
   "execution_count": null,
   "id": "d942af30",
   "metadata": {},
   "outputs": [
    {
     "name": "stdout",
     "output_type": "stream",
     "text": [
      "Передено 5 яке має тип <class 'str'>\n"
     ]
    }
   ],
   "source": [
    "from typing import Any, List\n",
    "def my_fun(a: Any):\n",
    "    #assert isinstance(a, Any), \"a має бути цілим числом\"\n",
    "    print(f\"Передено {a} яке має тип {type(a)}\")\n",
    "# my_fun() missing 1 required positional argument: 'a'\n",
    "my_fun(\"5\")"
   ]
  }
 ],
 "metadata": {
  "kernelspec": {
   "display_name": "Python 3",
   "language": "python",
   "name": "python3"
  },
  "language_info": {
   "codemirror_mode": {
    "name": "ipython",
    "version": 3
   },
   "file_extension": ".py",
   "mimetype": "text/x-python",
   "name": "python",
   "nbconvert_exporter": "python",
   "pygments_lexer": "ipython3",
   "version": "3.13.7"
  }
 },
 "nbformat": 4,
 "nbformat_minor": 5
}
